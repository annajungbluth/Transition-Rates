{
 "cells": [
  {
   "cell_type": "markdown",
   "metadata": {},
   "source": [
    "## Test to implement MLJ Theory"
   ]
  },
  {
   "cell_type": "code",
   "execution_count": 1,
   "metadata": {},
   "outputs": [],
   "source": [
    "import matplotlib.pyplot as plt\n",
    "import numpy as np\n",
    "from mpmath import nsum, exp, inf\n",
    "import math\n",
    "import os\n",
    "import pandas as pd\n",
    "from scipy.optimize import curve_fit"
   ]
  },
  {
   "cell_type": "markdown",
   "metadata": {},
   "source": [
    "### Parameters"
   ]
  },
  {
   "cell_type": "code",
   "execution_count": 2,
   "metadata": {},
   "outputs": [],
   "source": [
    "k = 1.38064852*10**(-23) #[m2*kg/(s2*K)]\n",
    "k_eV = 8.617333262145*10**(-5) #[eV/K]\n",
    "hbar = 1.0545718*10**(-34) #[m2*kg / s]\n",
    "hbar_eV = 6.5821*10**(-16) #[eV/s] "
   ]
  },
  {
   "cell_type": "code",
   "execution_count": 66,
   "metadata": {},
   "outputs": [],
   "source": [
    "#lam = 0.3 #[eV]\n",
    "#lam_o = 0.5*0.3 #[eV]\n",
    "hbar_w_i = 0.165 #[eV]\n",
    "S_i = 1\n",
    "#sig = 0.05 #[eV]"
   ]
  },
  {
   "cell_type": "markdown",
   "metadata": {},
   "source": [
    "### MLJ Equation"
   ]
  },
  {
   "cell_type": "code",
   "execution_count": 90,
   "metadata": {},
   "outputs": [],
   "source": [
    "def EQE_MLJ(E, f, E_CT, l_o): #, S_i, hbar_w_i): # Make sure that the prefactor is correct\n",
    "    EQE_MLJ_list = []\n",
    "    for e in E:\n",
    "        EQE = 0\n",
    "        for v in range(0,10):\n",
    "            EQE_v = f/(e*math.sqrt(4*math.pi*k_eV*l_o*290)) \\\n",
    "                * (math.exp(-S_i)*S_i**v / math.factorial(v)) \\\n",
    "                * math.exp(-((-e+E_CT+l_o+v*hbar_w_i)**2) / (4*l_o*k_eV*290))\n",
    "            EQE += EQE_v\n",
    "            #* nsum(lambda v: (math.exp(-S_i)*S_i**v / (math.factorial(v))) \\\n",
    "            #, [0, inf])\n",
    "        EQE_MLJ_list.append(EQE)\n",
    "        \n",
    "    return EQE_MLJ_list   "
   ]
  },
  {
   "cell_type": "code",
   "execution_count": 91,
   "metadata": {},
   "outputs": [],
   "source": [
    "def EQE_MLJ_Test(e, f, E_CT, l_o): #, S_i, hbar_w_i): # Make sure that the prefactor is correct\n",
    "    EQE = 0\n",
    "    for v in range(0, 6):\n",
    "        EQE_v = f/(e*math.sqrt(4*math.pi*k_eV*l_o*290)) \\\n",
    "            * (math.exp(-S_i)*S_i**v / math.factorial(v)) \\\n",
    "            * math.exp(-((-e+E_CT+l_o+v*hbar_w_i)**2) / (4*l_o*k_eV*290))\n",
    "        EQE += EQE_v\n",
    "        \n",
    "    return EQE "
   ]
  },
  {
   "cell_type": "code",
   "execution_count": 92,
   "metadata": {},
   "outputs": [
    {
     "name": "stderr",
     "output_type": "stream",
     "text": [
      "/home/jungbluth/anaconda3/lib/python3.6/site-packages/ipykernel_launcher.py:1: FutureWarning: from_csv is deprecated. Please use read_csv(...) instead. Note that some of the default arguments are different, so please refer to the documentation for from_csv when changing your function calls\n",
      "  \"\"\"Entry point for launching an IPython kernel.\n"
     ]
    }
   ],
   "source": [
    "data = pd.DataFrame.from_csv('Data_Test/DR38_B_5_ZnPc_C60_8')"
   ]
  },
  {
   "cell_type": "code",
   "execution_count": 93,
   "metadata": {},
   "outputs": [],
   "source": [
    "x = data['Energy']\n",
    "y = data['EQE']\n",
    "\n",
    "x_f = x[90:]\n",
    "y_f = y[90:]"
   ]
  },
  {
   "cell_type": "code",
   "execution_count": 94,
   "metadata": {},
   "outputs": [],
   "source": [
    "best_vals, covar = curve_fit(EQE_MLJ, x_f, y_f)"
   ]
  },
  {
   "cell_type": "code",
   "execution_count": 95,
   "metadata": {},
   "outputs": [
    {
     "data": {
      "text/plain": [
       "array([0.0083503 , 1.2647078 , 0.33338922])"
      ]
     },
     "execution_count": 95,
     "metadata": {},
     "output_type": "execute_result"
    }
   ],
   "source": [
    "best_vals"
   ]
  },
  {
   "cell_type": "code",
   "execution_count": 96,
   "metadata": {},
   "outputs": [],
   "source": [
    "y_fit = EQE_MLJ(x[30:], best_vals[0], best_vals[1], best_vals[2])"
   ]
  },
  {
   "cell_type": "code",
   "execution_count": 97,
   "metadata": {},
   "outputs": [
    {
     "data": {
      "image/png": "[encoded data removed]",
      "text/plain": [
       "<Figure size 432x288 with 1 Axes>"
      ]
     },
     "metadata": {
      "needs_background": "light"
     },
     "output_type": "display_data"
    }
   ],
   "source": [
    "plt.figure()\n",
    "plt.semilogy(x,y)\n",
    "plt.semilogy(x[30:],y_fit)\n",
    "#plt.xlim(1.2, 2.5)\n",
    "plt.show()"
   ]
  }
 ],
 "metadata": {
  "kernelspec": {
   "display_name": "Python 3",
   "language": "python",
   "name": "python3"
  },
  "language_info": {
   "codemirror_mode": {
    "name": "ipython",
    "version": 3
   },
   "file_extension": ".py",
   "mimetype": "text/x-python",
   "name": "python",
   "nbconvert_exporter": "python",
   "pygments_lexer": "ipython3",
   "version": "3.6.9"
  }
 },
 "nbformat": 4,
 "nbformat_minor": 2
}
